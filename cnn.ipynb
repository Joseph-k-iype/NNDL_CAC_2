{
 "cells": [
  {
   "cell_type": "code",
   "execution_count": 2,
   "metadata": {},
   "outputs": [
    {
     "name": "stdout",
     "output_type": "stream",
     "text": [
      "Input matrix is:\n",
      "1 0 1 1 0 \n",
      "0 0 0 1 1 \n",
      "1 0 0 0 1 \n",
      "0 1 1 1 0 \n",
      "1 1 0 1 0 \n"
     ]
    }
   ],
   "source": [
    "#Take an input matrix with size 5x5 and a kernel with size 3x3, perform convolution with stride being 1 and 2.\n",
    "#Input matrix\n",
    "import numpy as np\n",
    "import math\n",
    "import matplotlib.pyplot as plt\n",
    "\n",
    "#Input matrix\n",
    "input_matrix = np.array([[1,0,1,1,0],[0,0,0,1,1],[1,0,0,0,1],[0,1,1,1,0],[1,1,0,1,0]])\n",
    "print(\"Input matrix is:\")\n",
    "for i in range(0,5):\n",
    "    for j in range(0,5):\n",
    "        print(input_matrix[i][j],end=\" \")\n",
    "    print()"
   ]
  },
  {
   "cell_type": "code",
   "execution_count": 3,
   "metadata": {},
   "outputs": [
    {
     "name": "stdout",
     "output_type": "stream",
     "text": [
      "Kernel is:\n",
      "1 0 0 \n",
      "0 0 1 \n",
      "1 1 0 \n"
     ]
    }
   ],
   "source": [
    "kernel = np.array([[1,0,0],[0,0,1],[1,1,0]])\n",
    "print(\"Kernel is:\")\n",
    "for i in range(0,3):\n",
    "    for j in range(0,3):\n",
    "        print(kernel[i][j],end=\" \")\n",
    "    print()\n",
    "    "
   ]
  },
  {
   "cell_type": "code",
   "execution_count": 4,
   "metadata": {},
   "outputs": [
    {
     "name": "stdout",
     "output_type": "stream",
     "text": [
      "Stride 1\n",
      "2 1 2 \n",
      "1 2 3 \n",
      "4 2 1 \n",
      "Stride 2\n",
      "2 2 3 \n",
      "4 1 1 \n",
      "3 1 0 \n"
     ]
    }
   ],
   "source": [
    "#Convolution function\n",
    "def convolution():\n",
    "    padding = 1\n",
    "    nout = int(input.shape[0] + (2*padding) - kernel.shape[0] + 1)\n",
    "    #Stride 1\n",
    "    print(\"Stride 1\")\n",
    "    for i in range(0,3):\n",
    "        for j in range(0,3):\n",
    "            print(np.sum(input_matrix[i:i+3,j:j+3]*kernel),end=\" \")\n",
    "        print()\n",
    "    #Stride 2\n",
    "    print(\"Stride 2\")\n",
    "    for i in range(0,5,2):\n",
    "        for j in range(0,5,2):\n",
    "            print(np.sum(input_matrix[i:i+3,j:j+3]*kernel),end=\" \")\n",
    "        print()\n",
    "    \n",
    "convolution()"
   ]
  },
  {
   "cell_type": "code",
   "execution_count": 5,
   "metadata": {},
   "outputs": [
    {
     "name": "stdout",
     "output_type": "stream",
     "text": [
      "Max pooling\n",
      "1 1 1 \n",
      "1 1 1 \n",
      "1 1 0 \n",
      "Avg pooling\n",
      "0.25 0.75 0.5 \n",
      "0.5 0.5 0.5 \n",
      "1.0 0.5 0.0 \n",
      "Sum pooling\n",
      "1 3 1 \n",
      "2 2 1 \n",
      "2 1 0 \n"
     ]
    }
   ],
   "source": [
    "#apply max-pooling, avg-pooling and sum-pooling on the output of convolution with stride 2 and kernel size 2x2.\n",
    "#Max pooling\n",
    "def max_pooling():\n",
    "    print(\"Max pooling\")\n",
    "    for i in range(0,5,2):\n",
    "        for j in range(0,5,2):\n",
    "            print(np.max(input_matrix[i:i+2,j:j+2]),end=\" \")\n",
    "        print()\n",
    "#Avg pooling\n",
    "def avg_pooling():\n",
    "    print(\"Avg pooling\")\n",
    "    for i in range(0,5,2):\n",
    "        for j in range(0,5,2):\n",
    "            print(np.mean(input_matrix[i:i+2,j:j+2]),end=\" \")\n",
    "        print()\n",
    "\n",
    "#Sum pooling\n",
    "def sum_pooling():\n",
    "    print(\"Sum pooling\")\n",
    "    for i in range(0,5,2):\n",
    "        for j in range(0,5,2):\n",
    "            print(np.sum(input_matrix[i:i+2,j:j+2]),end=\" \")\n",
    "        print()\n",
    "max_pooling()\n",
    "avg_pooling()\n",
    "sum_pooling()"
   ]
  },
  {
   "cell_type": "code",
   "execution_count": 9,
   "metadata": {},
   "outputs": [
    {
     "name": "stdout",
     "output_type": "stream",
     "text": [
      "Visualize\n",
      "[1 0 0 0] [1 1 0 1] [0 1] \n",
      "[1 0 0 1] [0 0 1 1] [1 0] \n",
      "[1 1] [0 1] [0] \n"
     ]
    }
   ],
   "source": [
    "#Visualize the flattened version of the pooled feature maps\n",
    "def visualize():\n",
    "    print(\"Visualize\")\n",
    "    for i in range(0,5,2):\n",
    "        for j in range(0,5,2):\n",
    "            print(input_matrix[i:i+2,j:j+2].flatten(),end=\" \")\n",
    "        print()\n",
    "    #save the flattened version of the pooled feature maps as a numpy array\n",
    "    np.save(\"flattened.npy\",input_matrix)\n",
    "visualize()"
   ]
  },
  {
   "cell_type": "code",
   "execution_count": 15,
   "metadata": {},
   "outputs": [
    {
     "ename": "ValueError",
     "evalue": "cannot reshape array of size 25 into shape (4,1)",
     "output_type": "error",
     "traceback": [
      "\u001b[0;31m---------------------------------------------------------------------------\u001b[0m",
      "\u001b[0;31mValueError\u001b[0m                                Traceback (most recent call last)",
      "\u001b[1;32m/home/joseph/Desktop/NNDL/cnn.ipynb Cell 6\u001b[0m in \u001b[0;36m<cell line: 15>\u001b[0;34m()\u001b[0m\n\u001b[1;32m     <a href='vscode-notebook-cell:/home/joseph/Desktop/NNDL/cnn.ipynb#W6sZmlsZQ%3D%3D?line=11'>12</a>\u001b[0m \u001b[39minput\u001b[39m \u001b[39m=\u001b[39m \u001b[39minput\u001b[39m\u001b[39m.\u001b[39mflatten()\n\u001b[1;32m     <a href='vscode-notebook-cell:/home/joseph/Desktop/NNDL/cnn.ipynb#W6sZmlsZQ%3D%3D?line=13'>14</a>\u001b[0m \u001b[39m#reshape the input to 4x1\u001b[39;00m\n\u001b[0;32m---> <a href='vscode-notebook-cell:/home/joseph/Desktop/NNDL/cnn.ipynb#W6sZmlsZQ%3D%3D?line=14'>15</a>\u001b[0m \u001b[39minput\u001b[39m \u001b[39m=\u001b[39m \u001b[39minput\u001b[39;49m\u001b[39m.\u001b[39;49mreshape(\u001b[39m4\u001b[39;49m,\u001b[39m1\u001b[39;49m)\n\u001b[1;32m     <a href='vscode-notebook-cell:/home/joseph/Desktop/NNDL/cnn.ipynb#W6sZmlsZQ%3D%3D?line=15'>16</a>\u001b[0m \u001b[39m#reshape the weights to 4x1\u001b[39;00m\n\u001b[1;32m     <a href='vscode-notebook-cell:/home/joseph/Desktop/NNDL/cnn.ipynb#W6sZmlsZQ%3D%3D?line=16'>17</a>\u001b[0m weights \u001b[39m=\u001b[39m weights\u001b[39m.\u001b[39mreshape(\u001b[39m4\u001b[39m,\u001b[39m1\u001b[39m)\n",
      "\u001b[0;31mValueError\u001b[0m: cannot reshape array of size 25 into shape (4,1)"
     ]
    }
   ],
   "source": [
    "#pass the flatten version of the pooled feature maps to a perceptron and get the output.\n",
    "#Perceptron\n",
    "#initialize weights randomly\n",
    "weights = np.random.rand(4)\n",
    "bias = np.random.rand(1)\n",
    "learning_rate = 0.1\n",
    "#activation function\n",
    "def activation(x):\n",
    "    return 1/(1+math.exp(-x))\n",
    "#use the flattened version of the pooled feature maps as input\n",
    "input = np.load(\"flattened.npy\")\n",
    "input = input.flatten()\n",
    "\n",
    "#reshape the input to 4x1\n",
    "input = input.reshape(4,1)\n",
    "#reshape the weights to 4x1\n",
    "weights = weights.reshape(4,1)\n",
    "\n",
    "from  sklearn.neural_network import MLPClassifier\n",
    "clf = MLPClassifier(solver='lbfgs', alpha=1e-5,hidden_layer_sizes=(5, 2), random_state=1)\n",
    "clf.fit(input,weights)\n",
    "print(clf.predict(input))\n"
   ]
  },
  {
   "cell_type": "code",
   "execution_count": null,
   "metadata": {},
   "outputs": [],
   "source": []
  }
 ],
 "metadata": {
  "kernelspec": {
   "display_name": "Python 3",
   "language": "python",
   "name": "python3"
  },
  "language_info": {
   "codemirror_mode": {
    "name": "ipython",
    "version": 3
   },
   "file_extension": ".py",
   "mimetype": "text/x-python",
   "name": "python",
   "nbconvert_exporter": "python",
   "pygments_lexer": "ipython3",
   "version": "3.10.7"
  },
  "orig_nbformat": 4,
  "vscode": {
   "interpreter": {
    "hash": "916dbcbb3f70747c44a77c7bcd40155683ae19c65e1c03b4aa3499c5328201f1"
   }
  }
 },
 "nbformat": 4,
 "nbformat_minor": 2
}
