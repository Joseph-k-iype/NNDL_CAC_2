{
 "cells": [
  {
   "cell_type": "code",
   "execution_count": null,
   "metadata": {},
   "outputs": [],
   "source": [
    "# a function that does k-means clustering\n",
    "import numpy as np\n",
    "# and returns the cluster centers\n",
    "def kmeans(X, k):\n",
    "    # initialize the cluster centers\n",
    "    centers = X[np.random.choice(X.shape[0], k, replace=False)]\n",
    "    # initialize the labels\n",
    "    labels = np.zeros(X.shape[0])\n",
    "    # initialize the distance matrix\n",
    "    dist = np.zeros((X.shape[0], k))\n",
    "    # initialize the error\n",
    "    error = np.inf\n",
    "    # loop until the error stops decreasing\n",
    "    while True:\n",
    "        # calculate the distance matrix\n",
    "        for i in range(k):\n",
    "            dist[:, i] = np.linalg.norm(X - centers[i], axis=1)\n",
    "        # assign the labels\n",
    "        labels = np.argmin(dist, axis=1)\n",
    "        # calculate the new error\n",
    "        new_error = np.sum(np.min(dist, axis=1))\n",
    "        # check if the error has stopped decreasing\n",
    "        if new_error >= error:\n",
    "            break\n",
    "        # update the error\n",
    "        error = new_error\n",
    "        # update the cluster centers\n",
    "        for i in range(k):\n",
    "            centers[i] = np.mean(X[labels == i], axis=0)\n",
    "    # return the cluster centers\n",
    "    return centers\n",
    "\n",
    "\n",
    "# a function that does RBFN\n",
    "def rbfn(X, y, k):\n",
    "    # calculate the cluster centers\n",
    "    centers = kmeans(X, k)\n",
    "    # calculate the distance matrix\n",
    "    dist = np.zeros((X.shape[0], k))\n",
    "    for i in range(k):\n",
    "        dist[:, i] = np.linalg.norm(X - centers[i], axis=1)\n",
    "    # calculate the design matrix\n",
    "    phi = np.exp(-dist)\n",
    "    # calculate the weights\n",
    "    w = np.linalg.solve(phi.T.dot(phi), phi.T.dot(y))\n",
    "    # return the cluster centers and weights\n",
    "    return centers, w"
   ]
  }
 ],
 "metadata": {
  "language_info": {
   "name": "python"
  },
  "orig_nbformat": 4
 },
 "nbformat": 4,
 "nbformat_minor": 2
}
